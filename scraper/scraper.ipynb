{
 "cells": [
  {
   "cell_type": "markdown",
   "metadata": {},
   "source": [
    "# Spotify Scraping\n",
    "Il seguente notebook illustra il processo di raccolta dei dati per il progetto. \n",
    "Partendo dalle tracce salvate dal mio account di Spotify, ho cercato di accumulare più artisti significativi possibili nei seguenti modi:\n",
    "1. Ricorsivamente, richiedendo all'API artisti simili ad un artista.\n",
    "2. Per ogni traccia pubblicata da un certo artista, venivano salvati tutti gli artisti che hanno collaborato con lui.\n",
    "\n",
    "Per artisti significativi si indendono gli artisti con almeno 200 follower e appartenti ad almeno un genere italiano.\n",
    "\n",
    "La raccolta dei dati è avvenuta in maniera frammentata e non in pochi blocco. Questo, a discapito dell'efficenza, ha permesso la collezione delle informazioni possibile anche senza dover eseguire tutto il codice da zero."
   ]
  },
  {
   "cell_type": "markdown",
   "metadata": {},
   "source": [
    "## Accesso a Spotify tramite API"
   ]
  },
  {
   "cell_type": "code",
   "execution_count": 1,
   "metadata": {},
   "outputs": [],
   "source": [
    "import spotipy\n",
    "from spotipy.oauth2 import SpotifyOAuth\n",
    "import json\n",
    "\n",
    "with open('cred.json') as cred_file:\n",
    "    cred = json.load(cred_file)\n",
    "\n",
    "sp = spotipy.Spotify(auth_manager=SpotifyOAuth(client_id=cred[\"client_id\"],\n",
    "                                               client_secret=cred[\"client_secret\"],\n",
    "                                               redirect_uri=cred[\"redirect_uri\"],\n",
    "                                               scope=cred[\"scope\"],\n",
    "                                               username=cred[\"username\"]))"
   ]
  },
  {
   "cell_type": "markdown",
   "metadata": {},
   "source": [
    "## Salvataggio di tutti gli artisti de \"La mia Libreria\""
   ]
  },
  {
   "cell_type": "code",
   "execution_count": null,
   "metadata": {},
   "outputs": [
    {
     "name": "stdout",
     "output_type": "stream",
     "text": [
      "Limite:  50 , Offset:  0 , Numero di risultati:  50\n",
      "Limite:  50 , Offset:  50 , Numero di risultati:  50\n",
      "Limite:  50 , Offset:  100 , Numero di risultati:  50\n",
      "Limite:  50 , Offset:  150 , Numero di risultati:  50\n",
      "Limite:  50 , Offset:  200 , Numero di risultati:  50\n",
      "Limite:  50 , Offset:  250 , Numero di risultati:  50\n",
      "Limite:  50 , Offset:  300 , Numero di risultati:  50\n",
      "Limite:  50 , Offset:  350 , Numero di risultati:  50\n",
      "Limite:  50 , Offset:  400 , Numero di risultati:  50\n",
      "Limite:  50 , Offset:  450 , Numero di risultati:  50\n",
      "Limite:  50 , Offset:  500 , Numero di risultati:  25\n"
     ]
    }
   ],
   "source": [
    "artisti = []\n",
    "limit = 50\n",
    "after = 0\n",
    "results = sp.current_user_saved_tracks(limit=limit, offset=after)\n",
    "\n",
    "while True:\n",
    "    results = sp.current_user_saved_tracks(limit=limit, offset=after)\n",
    "    print(\"Limite: \", limit, \", Offset: \", after, \", Numero di risultati: \", len(results['items']))\n",
    "\n",
    "    for item in results['items']:\n",
    "        track = item[\"track\"]\n",
    "        if track[\"type\"] == \"track\":\n",
    "            for artist in track[\"artists\"]:\n",
    "                if not list(filter(lambda x: x[\"uri\"] == artist[\"uri\"], artisti)):\n",
    "                    artisti.append({\"uri\":  artist[\"uri\"], \"name\": artist[\"name\"]})\n",
    "    \n",
    "    after += limit\n",
    "    if len(results['items']) < limit:   \n",
    "        break"
   ]
  },
  {
   "cell_type": "markdown",
   "metadata": {},
   "source": [
    "Dopo aver accumulato tutti gli artisti della libreria dell'account Spotify, è stato fatto un primo filtraggio, eliminando tutti gli artisti non facenti parte di almeno un genere italiano"
   ]
  },
  {
   "cell_type": "code",
   "execution_count": 3,
   "metadata": {},
   "outputs": [],
   "source": [
    "def divide_chunks(l, n):\n",
    "    for i in range(0, len(l), n): \n",
    "        yield l[i:i + n]\n",
    "\n",
    "\n",
    "def artist_filter(genre, artists):\n",
    "    results = []\n",
    "    artists_id = [artist[\"uri\"] for artist in artists]\n",
    "\n",
    "\n",
    "    for artists_id_chunk in divide_chunks(artists_id, 50):\n",
    "        artists_more_info = sp.artists(artists_id_chunk)\n",
    "\n",
    "        for artist in artists_more_info[\"artists\"]:\n",
    "            for music_genre in artist[\"genres\"]:\n",
    "                if genre in music_genre:\n",
    "                    result = {}\n",
    "                    result[\"uri\"], result[\"name\"], result[\"followers\"] = artist[\"uri\"], artist[\"name\"], artist[\"followers\"][\"total\"]\n",
    "                    results.append(result)\n",
    "                    break\n",
    "\n",
    "    return results\n",
    "\n",
    "\n",
    "# Filtro per artisti italiani\n",
    "artisti = artist_filter(\"italian\", artisti)\n",
    "\n",
    "# Salvataggio dei progressi fatti\n",
    "with open('artisti_liberia.json', 'w') as outfile:\n",
    "    json.dump(artisti, outfile, indent=4)"
   ]
  },
  {
   "cell_type": "code",
   "execution_count": 4,
   "metadata": {},
   "outputs": [],
   "source": [
    "# Checkpoint 1\n",
    "with open('artisti_liberia.json') as json_file:\n",
    "    artisti = json.load(json_file)"
   ]
  },
  {
   "cell_type": "markdown",
   "metadata": {},
   "source": [
    "## Identificazione di artisti simili tra di loro\n",
    "Tramite la funzione `sp.artist_related_artists(artista_id)`, Spotify ritorna una serie di artisti simili a quello passato per parametro. Utilizzando questa funzione ricorsivamente, si accumulano ulteriori artisti italiani."
   ]
  },
  {
   "cell_type": "code",
   "execution_count": null,
   "metadata": {},
   "outputs": [],
   "source": [
    "import time\n",
    "\n",
    "def flatten(t):\n",
    "    return [item for sublist in t for item in sublist]\n",
    "\n",
    "def get_artists_from_artists(artist_uri, missing_steps):\n",
    "    if missing_steps > 0:\n",
    "        try:\n",
    "            artisti = artist_filter(\"italian\", sp.artist_related_artists(artist_uri)[\"artists\"])\n",
    "        except Exception as e:\n",
    "            print(e)\n",
    "            time.sleep(5)\n",
    "            artisti = artist_filter(\"italian\", sp.artist_related_artists(artist_uri)[\"artists\"])\n",
    "\n",
    "        partial_result = flatten([get_artists_from_artists(artista[\"uri\"], missing_steps - 1) for artista in artisti])\n",
    "    \n",
    "        return artisti + partial_result\n",
    "    else:\n",
    "        try:\n",
    "            return artist_filter(\"italian\", sp.artist_related_artists(artist_uri)[\"artists\"])\n",
    "        except Exception as e:\n",
    "            print(e)\n",
    "            time.sleep(5)\n",
    "            return artist_filter(\"italian\", sp.artist_related_artists(artist_uri)[\"artists\"])\n",
    "\n",
    "\n",
    "recursive_artist = get_artists_from_artists(artisti[0][\"uri\"], 2)\n",
    "\n",
    "# Eliminazione degli artisti che risulano duplicati nella lista\n",
    "recursive_artist_no_dupl = []\n",
    "for x in recursive_artist:\n",
    "    if x not in recursive_artist_no_dupl:\n",
    "        recursive_artist_no_dupl.append(x)\n",
    "\n",
    "with open('artisti_ricorsivi.json', 'w') as json_file:\n",
    "    json.dump(recursive_artist_no_dupl, json_file, indent=4)\n",
    "    \n",
    "len(recursive_artist_no_dupl)"
   ]
  },
  {
   "cell_type": "code",
   "execution_count": 12,
   "metadata": {},
   "outputs": [],
   "source": [
    "# Checkpoint 2\n",
    "with open('artisti_ricorsivi.json', 'r') as json_file:\n",
    "    recursive_artists = json.load(json_file)"
   ]
  },
  {
   "cell_type": "markdown",
   "metadata": {},
   "source": [
    "## Collezione di artisti basata sulle collaborazioni"
   ]
  },
  {
   "cell_type": "code",
   "execution_count": null,
   "metadata": {},
   "outputs": [],
   "source": [
    "artists_full = {}\n",
    "\n",
    "for counter, artist in enumerate(recursive_artists):\n",
    "    results = sp.artist_albums(artist[\"uri\"], album_type='album')\n",
    "    albums = results['items']\n",
    "    \n",
    "    while results['next']:\n",
    "        results = sp.next(results)\n",
    "        albums.extend(results['items'])\n",
    "\n",
    "    for album in albums:\n",
    "        album_tracks = sp.album_tracks(album[\"id\"], limit=50)\n",
    "        for track in album_tracks[\"items\"]:\n",
    "            for track_artist in track[\"artists\"]:\n",
    "                artists_full[track_artist[\"name\"]] = {\n",
    "                    \"id\": track_artist[\"id\"]\n",
    "                }\n",
    "    print(f\"{counter}/{len(recursive_artists)} artisti caricati\")\n",
    "    time.sleep(3)\n",
    "\n",
    "print(artists_full)"
   ]
  },
  {
   "cell_type": "code",
   "execution_count": 26,
   "metadata": {},
   "outputs": [],
   "source": [
    "len(artists_full)\n",
    "with open('artisti_full.json', 'w') as json_file:\n",
    "    json.dump(artists_full, json_file, indent=4)"
   ]
  },
  {
   "cell_type": "markdown",
   "metadata": {},
   "source": [
    "Teniamo solo gli artisti con almeno 200 follower e filtriamo solo per artisti italiani"
   ]
  },
  {
   "cell_type": "markdown",
   "metadata": {},
   "source": [
    "## Filtraggio dei risultati\n",
    "A questo punto gli artisti con meno di 200 followers vengono scartati che non fanno parte di almeno un genere italiano-"
   ]
  },
  {
   "cell_type": "code",
   "execution_count": 46,
   "metadata": {},
   "outputs": [],
   "source": [
    "artisti_filtrati = {}\n",
    "\n",
    "for artist_name, artist_id in artists_full.items():\n",
    "    artist_data = sp.artist(f\"spotify:artist:{artist_id['id']}\")\n",
    "    \n",
    "    for music_genre in artist_data[\"genres\"]:\n",
    "        if \"italian\" in music_genre:\n",
    "            if artist_data[\"followers\"][\"total\"] > 200:\n",
    "                artisti_filtrati[artist_name] = artist_id\n",
    "                artisti_filtrati[artist_name][\"followers\"] = artist_data[\"followers\"][\"total\"]\n",
    "                break"
   ]
  },
  {
   "cell_type": "code",
   "execution_count": 6,
   "metadata": {},
   "outputs": [],
   "source": [
    "with open('artisti_filtrati.json', 'r') as json_file:\n",
    "    artisti_filtrati = json.load(json_file)"
   ]
  },
  {
   "cell_type": "code",
   "execution_count": 8,
   "metadata": {},
   "outputs": [
    {
     "name": "stdout",
     "output_type": "stream",
     "text": [
      "Artista 1 su 478\n"
     ]
    }
   ],
   "source": [
    "artists_albums_tracks = {}\n",
    "\n",
    "for i, artist_info in enumerate(artisti_filtrati.items()):\n",
    "    artist, info = artist_info\n",
    "    print(f\"Artista {i+1} su {len(artisti_filtrati)}\")\n",
    "    albums = sp.artist_albums(f\"spotify:artist:{info['id']}\")\n",
    "\n",
    "    albums_to_add = {}\n",
    "    for album in albums[\"items\"]:\n",
    "        albums_to_add[album[\"id\"]] = {\n",
    "            \"name\": album[\"name\"], \n",
    "            \"release_date\": album[\"release_date\"], \n",
    "            \"total_tracks\": album[\"total_tracks\"],\n",
    "            \"type\": album[\"type\"]\n",
    "        }\n",
    "\n",
    "        tracks_to_add = {}\n",
    "        for track in sp.album_tracks(album[\"id\"], limit=50)[\"items\"]:\n",
    "            tracks_to_add[track[\"id\"]] = {\n",
    "                \"name\": track[\"name\"], \n",
    "                \"duration_ms\": track[\"duration_ms\"], \n",
    "                \"explicit\": track[\"explicit\"],\n",
    "                \"type\": track[\"type\"]\n",
    "            }\n",
    "        \n",
    "        albums_to_add[album[\"id\"]][\"tracks\"] = tracks_to_add\n",
    "        artists_albums_tracks[info[\"id\"]] = {\n",
    "            \"name\": artist,\n",
    "            \"followers\": info[\"followers\"],\n",
    "            \"albums\": albums_to_add,\n",
    "        }\n",
    "    \n",
    "    time.sleep(0.1)\n"
   ]
  },
  {
   "cell_type": "code",
   "execution_count": 58,
   "metadata": {},
   "outputs": [],
   "source": [
    "with open('artists_albums_tracks.json', 'w') as json_file:\n",
    "    json.dump(artists_albums_tracks, json_file, indent=4)"
   ]
  }
 ],
 "metadata": {
  "interpreter": {
   "hash": "2db524e06e9f5f4ffedc911c917cb75e12dbc923643829bf417064a77eb14d37"
  },
  "kernelspec": {
   "display_name": "Python 3.8.3 64-bit",
   "language": "python",
   "name": "python3"
  },
  "language_info": {
   "codemirror_mode": {
    "name": "ipython",
    "version": 3
   },
   "file_extension": ".py",
   "mimetype": "text/x-python",
   "name": "python",
   "nbconvert_exporter": "python",
   "pygments_lexer": "ipython3",
   "version": "3.8.3"
  },
  "orig_nbformat": 4
 },
 "nbformat": 4,
 "nbformat_minor": 2
}
