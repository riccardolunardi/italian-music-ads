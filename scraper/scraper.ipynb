{
 "cells": [
  {
   "cell_type": "markdown",
   "metadata": {},
   "source": [
    "# Spotify Scraping\n",
    "Il seguente notebook illustra il processo di raccolta dei dati per il progetto. \n",
    "Partendo dalle tracce salvate dal mio account di Spotify, ho cercato di accumulare più artisti significativi possibili nei seguenti modi:\n",
    "1. Ricorsivamente, richiedendo all'API artisti simili ad un artista.\n",
    "2. Per ogni traccia pubblicata da un certo artista, venivano salvati tutti gli artisti che hanno collaborato con lui.\n",
    "\n",
    "Per artisti significativi si indendono gli artisti con almeno 200 follower e appartenti ad almeno un genere italiano.\n",
    "\n",
    "La raccolta dei dati è avvenuta in maniera frammentata e non in pochi blocco. Questo, a discapito dell'efficenza, ha permesso la collezione delle informazioni possibile anche senza dover eseguire tutto il codice da zero."
   ]
  },
  {
   "cell_type": "markdown",
   "metadata": {},
   "source": [
    "## Accesso a Spotify tramite API"
   ]
  },
  {
   "cell_type": "code",
   "execution_count": 1,
   "metadata": {},
   "outputs": [],
   "source": [
    "import spotipy\n",
    "from spotipy.oauth2 import SpotifyOAuth\n",
    "import json\n",
    "import time\n",
    "\n",
    "with open('cred.json') as cred_file:\n",
    "    cred = json.load(cred_file)[1]\n",
    "\n",
    "sp = spotipy.Spotify(auth_manager=SpotifyOAuth(client_id=cred[\"client_id\"],\n",
    "                                               client_secret=cred[\"client_secret\"],\n",
    "                                               redirect_uri=cred[\"redirect_uri\"],\n",
    "                                               scope=cred[\"scope\"],\n",
    "                                               username=cred[\"username\"]))"
   ]
  },
  {
   "cell_type": "markdown",
   "metadata": {},
   "source": [
    "## Salvataggio di tutti gli artisti de \"La mia Libreria\""
   ]
  },
  {
   "cell_type": "code",
   "execution_count": null,
   "metadata": {},
   "outputs": [],
   "source": [
    "artisti = []\n",
    "limit = 50\n",
    "after = 0\n",
    "results = sp.current_user_saved_tracks(limit=limit, offset=after)\n",
    "\n",
    "while True:\n",
    "    results = sp.current_user_saved_tracks(limit=limit, offset=after)\n",
    "    print(\"Limite: \", limit, \", Offset: \", after, \", Numero di risultati: \", len(results['items']))\n",
    "\n",
    "    for item in results['items']:\n",
    "        track = item[\"track\"]\n",
    "        if track[\"type\"] == \"track\":\n",
    "            for artist in track[\"artists\"]:\n",
    "                if not list(filter(lambda x: x[\"uri\"] == artist[\"uri\"], artisti)):\n",
    "                    artisti.append({\"uri\":  artist[\"uri\"], \"name\": artist[\"name\"]})\n",
    "    \n",
    "    after += limit\n",
    "    if len(results['items']) < limit:   \n",
    "        break"
   ]
  },
  {
   "cell_type": "markdown",
   "metadata": {},
   "source": [
    "Dopo aver accumulato tutti gli artisti della libreria dell'account Spotify, è stato fatto un primo filtraggio, eliminando tutti gli artisti non appartenenti ad almeno un genere italiano."
   ]
  },
  {
   "cell_type": "code",
   "execution_count": 3,
   "metadata": {},
   "outputs": [],
   "source": [
    "def divide_chunks(l, n):\n",
    "    for i in range(0, len(l), n): \n",
    "        yield l[i:i + n]\n",
    "\n",
    "\n",
    "def artist_filter(genre, artists):\n",
    "    results = []\n",
    "    artists_id = [artist[\"uri\"] for artist in artists]\n",
    "\n",
    "\n",
    "    for artists_id_chunk in divide_chunks(artists_id, 50):\n",
    "        artists_more_info = sp.artists(artists_id_chunk)\n",
    "\n",
    "        for artist in artists_more_info[\"artists\"]:\n",
    "            for music_genre in artist[\"genres\"]:\n",
    "                if genre in music_genre:\n",
    "                    result = {}\n",
    "                    result[\"uri\"], result[\"name\"], result[\"followers\"] = artist[\"uri\"], artist[\"name\"], artist[\"followers\"][\"total\"]\n",
    "                    results.append(result)\n",
    "                    break\n",
    "\n",
    "    return results\n",
    "\n",
    "\n",
    "# Filtro per artisti italiani\n",
    "artisti = artist_filter(\"italian\", artisti)\n",
    "\n",
    "# Salvataggio dei progressi fatti\n",
    "with open('artisti_liberia.json', 'w') as outfile:\n",
    "    json.dump(artisti, outfile, indent=4)"
   ]
  },
  {
   "cell_type": "code",
   "execution_count": 4,
   "metadata": {},
   "outputs": [],
   "source": [
    "# Checkpoint 1\n",
    "with open('artisti_liberia.json') as json_file:\n",
    "    artisti = json.load(json_file)"
   ]
  },
  {
   "cell_type": "markdown",
   "metadata": {},
   "source": [
    "## Identificazione di artisti simili tra di loro\n",
    "Tramite la funzione `sp.artist_related_artists(artista_id)`, Spotify ritorna una serie di artisti simili a quello passato per parametro. Utilizzando questa funzione ricorsivamente, si accumulano ulteriori artisti italiani."
   ]
  },
  {
   "cell_type": "code",
   "execution_count": null,
   "metadata": {},
   "outputs": [],
   "source": [
    "def flatten(t):\n",
    "    return [item for sublist in t for item in sublist]\n",
    "\n",
    "def get_artists_from_artists(artist_uri, missing_steps):\n",
    "    if missing_steps > 0:\n",
    "        try:\n",
    "            artisti = artist_filter(\"italian\", sp.artist_related_artists(artist_uri)[\"artists\"])\n",
    "        except Exception as e:\n",
    "            print(e)\n",
    "            time.sleep(5)\n",
    "            artisti = artist_filter(\"italian\", sp.artist_related_artists(artist_uri)[\"artists\"])\n",
    "\n",
    "        partial_result = flatten([get_artists_from_artists(artista[\"uri\"], missing_steps - 1) for artista in artisti])\n",
    "    \n",
    "        return artisti + partial_result\n",
    "    else:\n",
    "        try:\n",
    "            return artist_filter(\"italian\", sp.artist_related_artists(artist_uri)[\"artists\"])\n",
    "        except Exception as e:\n",
    "            print(e)\n",
    "            time.sleep(5)\n",
    "            return artist_filter(\"italian\", sp.artist_related_artists(artist_uri)[\"artists\"])\n",
    "\n",
    "\n",
    "recursive_artist = get_artists_from_artists(artisti[0][\"uri\"], 2)\n",
    "\n",
    "# Eliminazione degli artisti che risulano duplicati nella lista\n",
    "recursive_artist_no_dupl = []\n",
    "for x in recursive_artist:\n",
    "    if x not in recursive_artist_no_dupl:\n",
    "        recursive_artist_no_dupl.append(x)\n",
    "\n",
    "with open('artisti_ricorsivi.json', 'w') as json_file:\n",
    "    json.dump(recursive_artist_no_dupl, json_file, indent=4)\n",
    "    \n",
    "len(recursive_artist_no_dupl)"
   ]
  },
  {
   "cell_type": "code",
   "execution_count": 12,
   "metadata": {},
   "outputs": [],
   "source": [
    "# Checkpoint 2\n",
    "with open('artisti_ricorsivi.json', 'r') as json_file:\n",
    "    recursive_artists = json.load(json_file)"
   ]
  },
  {
   "cell_type": "markdown",
   "metadata": {},
   "source": [
    "## Collezione di artisti basata sulle collaborazioni"
   ]
  },
  {
   "cell_type": "code",
   "execution_count": null,
   "metadata": {},
   "outputs": [],
   "source": [
    "artists_full = {}\n",
    "\n",
    "for counter, artist in enumerate(recursive_artists):\n",
    "    results = sp.artist_albums(artist[\"uri\"], album_type='album')\n",
    "    albums = results['items']\n",
    "    \n",
    "    while results['next']:\n",
    "        results = sp.next(results)\n",
    "        albums.extend(results['items'])\n",
    "\n",
    "    for album in albums:\n",
    "        album_tracks = sp.album_tracks(album[\"id\"], limit=50)\n",
    "        for track in album_tracks[\"items\"]:\n",
    "            for track_artist in track[\"artists\"]:\n",
    "                artists_full[track_artist[\"name\"]] = {\n",
    "                    \"id\": track_artist[\"id\"]\n",
    "                }\n",
    "    print(f\"{counter}/{len(recursive_artists)} artisti caricati\")\n",
    "    time.sleep(3)\n",
    "\n",
    "print(artists_full)"
   ]
  },
  {
   "cell_type": "code",
   "execution_count": 26,
   "metadata": {},
   "outputs": [],
   "source": [
    "len(artists_full)\n",
    "with open('artisti_full.json', 'w') as json_file:\n",
    "    json.dump(artists_full, json_file, indent=4)"
   ]
  },
  {
   "cell_type": "markdown",
   "metadata": {},
   "source": [
    "Teniamo solo gli artisti con almeno 200 follower e filtriamo solo per artisti italiani"
   ]
  },
  {
   "cell_type": "markdown",
   "metadata": {},
   "source": [
    "## Filtraggio dei risultati\n",
    "A questo punto gli artisti con meno di 200 followers e che non appartengono ad almeno un genere italiani vengono scartati."
   ]
  },
  {
   "cell_type": "code",
   "execution_count": 46,
   "metadata": {},
   "outputs": [],
   "source": [
    "artisti_filtrati = {}\n",
    "\n",
    "for artist_name, artist_id in artists_full.items():\n",
    "    artist_data = sp.artist(f\"spotify:artist:{artist_id['id']}\")\n",
    "    \n",
    "    for music_genre in artist_data[\"genres\"]:\n",
    "        if \"italian\" in music_genre:\n",
    "            if artist_data[\"followers\"][\"total\"] > 200:\n",
    "                artisti_filtrati[artist_name] = artist_id\n",
    "                artisti_filtrati[artist_name][\"followers\"] = artist_data[\"followers\"][\"total\"]\n",
    "                break"
   ]
  },
  {
   "cell_type": "code",
   "execution_count": 5,
   "metadata": {},
   "outputs": [],
   "source": [
    "with open('artisti_filtrati.json', 'r') as json_file:\n",
    "    artisti_filtrati = json.load(json_file)"
   ]
  },
  {
   "cell_type": "markdown",
   "metadata": {},
   "source": [
    "## Scraper album/tracks\n",
    "A questo punto, per ogni artista, vengono salvati tutti le canzoni e gli album pubblicati"
   ]
  },
  {
   "cell_type": "code",
   "execution_count": null,
   "metadata": {},
   "outputs": [],
   "source": [
    "artists_albums_tracks = {}\n",
    "\n",
    "for i, artist_info in enumerate(artisti_filtrati.items()):\n",
    "    artist, info = artist_info\n",
    "    print(f\"Artista {i+1} su {len(artisti_filtrati)}\")\n",
    "    albums = sp.artist_albums(f\"spotify:artist:{info['id']}\")\n",
    "\n",
    "    albums_to_add = {}\n",
    "    for album in albums[\"items\"]:\n",
    "        albums_to_add[album[\"id\"]] = {\n",
    "            \"name\": album[\"name\"], \n",
    "            \"release_date\": album[\"release_date\"], \n",
    "            \"total_tracks\": album[\"total_tracks\"],\n",
    "            \"type\": album[\"type\"]\n",
    "        }\n",
    "\n",
    "        tracks_to_add = {}\n",
    "        for track in sp.album_tracks(album[\"id\"], limit=50)[\"items\"]:\n",
    "            tracks_to_add[track[\"id\"]] = {\n",
    "                \"name\": track[\"name\"], \n",
    "                \"duration_ms\": track[\"duration_ms\"], \n",
    "                \"explicit\": track[\"explicit\"],\n",
    "                \"type\": track[\"type\"]\n",
    "            }\n",
    "        \n",
    "        albums_to_add[album[\"id\"]][\"tracks\"] = tracks_to_add\n",
    "        artists_albums_tracks[info[\"id\"]] = {\n",
    "            \"name\": artist,\n",
    "            \"followers\": info[\"followers\"],\n",
    "            \"albums\": albums_to_add,\n",
    "        }\n",
    "    \n",
    "    time.sleep(0.5)\n"
   ]
  },
  {
   "cell_type": "code",
   "execution_count": 13,
   "metadata": {},
   "outputs": [],
   "source": [
    "with open('artists_albums_tracks.json', 'w') as json_file:\n",
    "    json.dump(artists_albums_tracks, json_file, indent=4)"
   ]
  },
  {
   "cell_type": "code",
   "execution_count": 2,
   "metadata": {},
   "outputs": [],
   "source": [
    "with open('artists_albums_tracks.json', 'r') as json_file:\n",
    "    artists_albums_tracks = json.load(json_file)"
   ]
  },
  {
   "cell_type": "markdown",
   "metadata": {},
   "source": [
    "## Scraper canzoni\n",
    "Tramite A-Z Lyrics si scaricano i testi di ogni canzone collezionata precendetemente."
   ]
  },
  {
   "cell_type": "code",
   "execution_count": 10,
   "metadata": {},
   "outputs": [
    {
     "name": "stdout",
     "output_type": "stream",
     "text": [
      "antipatico\n",
      "charlesmansonbuonnatale2\n",
      "90min\n",
      "donmedelln\n",
      "mictaser\n",
      "intro\n",
      "{'Error': 'Unable to find intro by salmo'}\n",
      "morteindirettayazeeremix\n",
      "{'Error': 'Unable to find morteindirettayazeeremix by salmo'}\n",
      "yokoonodjoverremix\n",
      "{'Error': 'Unable to find yokoonodjoverremix by salmo'}\n",
      "laprimavoltaunotherremix\n",
      "borderline\n",
      "hellcome\n",
      "morteindiretta\n",
      "lacanzonenostraconblancosalmo\n",
      "{'Error': 'Unable to find lacanzonenostraconblancosalmo by salmo'}\n",
      "90min\n",
      "perdonami\n",
      "estatedimmerda\n",
      "donmedelln\n",
      "giuda\n",
      "iosonoqui\n",
      "1984\n",
      "mussoleeni\n",
      "inri\n",
      "alfaalfa\n",
      "alfaalfa\n",
      "frombktorm\n",
      "intro\n",
      "tajerino\n",
      "introducingnoyznarcos\n",
      "guardamiadessoprodsine\n",
      "{'Error': 'Unable to find guardamiadessoprodsine by noyznarcos'}\n",
      "wildboyspt2\n",
      "{'Error': 'Unable to find wildboyspt2 by noyznarcos'}\n",
      "sciacalli\n",
      "sinnmemoro\n",
      "{'Error': 'Unable to find sinnmemoro by noyznarcos'}\n",
      "dopegames\n",
      "{'Error': 'Unable to find dopegames by noyznarcos'}\n",
      "lobo\n",
      "trainingday\n",
      "gameover\n",
      "wildboys\n",
      "{'Error': 'Unable to find wildboys by noyznarcos'}\n",
      "dragyoutohell\n",
      "{'Error': 'Unable to find dragyoutohell by noyznarcos'}\n",
      "sumiamadre\n",
      "{'Error': 'Unable to find sumiamadre by noyznarcos'}\n",
      "44sdmg\n",
      "{'Error': 'Unable to find 44sdmg by noyznarcos'}\n",
      "airforcebianca\n",
      "{'Error': 'Unable to find airforcebianca by noyznarcos'}\n",
      "gangland\n",
      "{'Error': 'Unable to find gangland by noyznarcos'}\n",
      "nelback\n",
      "{'Error': 'Unable to find nelback by noyznarcos'}\n",
      "botte\n",
      "{'Error': 'Unable to find botte by noyznarcos'}\n",
      "nevica\n",
      "{'Error': 'Unable to find nevica by noyznarcos'}\n",
      "amicimorti\n",
      "{'Error': 'Unable to find amicimorti by noyznarcos'}\n",
      "sudio\n",
      "{'Error': 'Unable to find sudio by noyznarcos'}\n",
      "droga\n",
      "{'Error': 'Unable to find droga by noyznarcos'}\n",
      "malavita\n",
      "{'Error': 'Unable to find malavita by noyznarcos'}\n",
      "hennessyxlean\n",
      "{'Error': 'Unable to find hennessyxlean by noyznarcos'}\n",
      "coma\n",
      "{'Error': 'Unable to find coma by noyznarcos'}\n",
      "wutang\n",
      "{'Error': 'Unable to find wutang by noyznarcos'}\n",
      "fralenuvole\n",
      "{'Error': 'Unable to find fralenuvole by noyznarcos'}\n",
      "floweasy\n",
      "{'Error': 'Unable to find floweasy by noyznarcos'}\n",
      "cerchiconilfumo\n",
      "{'Error': 'Unable to find cerchiconilfumo by noyznarcos'}\n",
      "occhirossi\n",
      "{'Error': 'Unable to find occhirossi by noyznarcos'}\n",
      "sessoedroga\n",
      "{'Error': 'Unable to find sessoedroga by noyznarcos'}\n",
      "comenellecanzoni\n",
      "{'Error': 'Unable to find comenellecanzoni by noyznarcos'}\n",
      "oldirty\n",
      "{'Error': 'Unable to find oldirty by noyznarcos'}\n",
      "bombaamano\n",
      "{'Error': 'Unable to find bombaamano by noyznarcos'}\n",
      "crack\n",
      "{'Error': 'Unable to find crack by noyznarcos'}\n",
      "casserotte\n",
      "{'Error': 'Unable to find casserotte by noyznarcos'}\n",
      "margherita\n",
      "{'Error': 'Unable to find margherita by noyznarcos'}\n",
      "facciadarapina\n",
      "{'Error': 'Unable to find facciadarapina by noyznarcos'}\n",
      "antipatico\n",
      "{'Error': 'Unable to find antipatico by noyznarcos'}\n",
      "misentobene\n",
      "{'Error': 'Unable to find misentobene by noyznarcos'}\n",
      "criminale\n",
      "{'Error': 'Unable to find criminale by noyznarcos'}\n",
      "ghigliottina\n",
      "{'Error': 'Unable to find ghigliottina by noyznarcos'}\n",
      "intrappola\n",
      "{'Error': 'Unable to find intrappola by noyznarcos'}\n",
      "lachiave\n",
      "{'Error': 'Unable to find lachiave by noyznarcos'}\n",
      "kumite\n",
      "{'Error': 'Unable to find kumite by noyznarcos'}\n",
      "cheneso\n",
      "{'Error': 'Unable to find cheneso by noyznarcos'}\n",
      "yhwh\n",
      "{'Error': 'Unable to find yhwh by noyznarcos'}\n",
      "hellvisback2\n",
      "{'Error': 'Unable to find hellvisback2 by noyznarcos'}\n",
      "adio\n",
      "{'Error': 'Unable to find adio by noyznarcos'}\n",
      "fuoriditesta\n",
      "{'Error': 'Unable to find fuoriditesta by noyznarcos'}\n",
      "marla\n",
      "{'Error': 'Unable to find marla by noyznarcos'}\n",
      "langelocaduto\n",
      "{'Error': 'Unable to find langelocaduto by noyznarcos'}\n",
      "vivo\n",
      "{'Error': 'Unable to find vivo by noyznarcos'}\n",
      "flop\n"
     ]
    },
    {
     "ename": "KeyboardInterrupt",
     "evalue": "",
     "output_type": "error",
     "traceback": [
      "\u001b[1;31m---------------------------------------------------------------------------\u001b[0m",
      "\u001b[1;31mKeyboardInterrupt\u001b[0m                         Traceback (most recent call last)",
      "\u001b[1;32m<ipython-input-10-f75d44ef9a83>\u001b[0m in \u001b[0;36m<module>\u001b[1;34m\u001b[0m\n\u001b[0;32m     21\u001b[0m                 \u001b[0mtrack_name\u001b[0m \u001b[1;33m=\u001b[0m \u001b[1;34m\"\"\u001b[0m\u001b[1;33m.\u001b[0m\u001b[0mjoin\u001b[0m\u001b[1;33m(\u001b[0m\u001b[0mre\u001b[0m\u001b[1;33m.\u001b[0m\u001b[0mfindall\u001b[0m\u001b[1;33m(\u001b[0m\u001b[1;34mr\"[a-z0-9]+\"\u001b[0m\u001b[1;33m,\u001b[0m \u001b[0mtrack_name\u001b[0m\u001b[1;33m)\u001b[0m\u001b[1;33m)\u001b[0m\u001b[1;33m\u001b[0m\u001b[1;33m\u001b[0m\u001b[0m\n\u001b[0;32m     22\u001b[0m                 \u001b[0mprint\u001b[0m\u001b[1;33m(\u001b[0m\u001b[0mtrack_name\u001b[0m\u001b[1;33m)\u001b[0m\u001b[1;33m\u001b[0m\u001b[1;33m\u001b[0m\u001b[0m\n\u001b[1;32m---> 23\u001b[1;33m                 \u001b[0mlyr\u001b[0m \u001b[1;33m=\u001b[0m \u001b[0mlyrics\u001b[0m\u001b[1;33m(\u001b[0m\u001b[0martist_info\u001b[0m\u001b[1;33m[\u001b[0m\u001b[1;34m\"name\"\u001b[0m\u001b[1;33m]\u001b[0m\u001b[1;33m,\u001b[0m \u001b[0mtrack_name\u001b[0m\u001b[1;33m)\u001b[0m\u001b[1;33m\u001b[0m\u001b[1;33m\u001b[0m\u001b[0m\n\u001b[0m\u001b[0;32m     24\u001b[0m                 \u001b[1;32mif\u001b[0m \u001b[0misinstance\u001b[0m\u001b[1;33m(\u001b[0m\u001b[0mlyr\u001b[0m\u001b[1;33m,\u001b[0m \u001b[0mdict\u001b[0m\u001b[1;33m)\u001b[0m\u001b[1;33m:\u001b[0m\u001b[1;33m\u001b[0m\u001b[1;33m\u001b[0m\u001b[0m\n\u001b[0;32m     25\u001b[0m                     \u001b[0mprint\u001b[0m\u001b[1;33m(\u001b[0m\u001b[0mlyr\u001b[0m\u001b[1;33m)\u001b[0m\u001b[1;33m\u001b[0m\u001b[1;33m\u001b[0m\u001b[0m\n",
      "\u001b[1;32m~\\miniconda3\\lib\\site-packages\\azlyrics\\azlyrics.py\u001b[0m in \u001b[0;36mlyrics\u001b[1;34m(artist, song)\u001b[0m\n\u001b[0;32m     69\u001b[0m     \u001b[0murl\u001b[0m \u001b[1;33m=\u001b[0m \u001b[0mbase\u001b[0m\u001b[1;33m+\u001b[0m\u001b[1;34m\"lyrics/\"\u001b[0m\u001b[1;33m+\u001b[0m\u001b[0martist\u001b[0m\u001b[1;33m+\u001b[0m\u001b[1;34m\"/\"\u001b[0m\u001b[1;33m+\u001b[0m\u001b[0msong\u001b[0m\u001b[1;33m+\u001b[0m\u001b[1;34m\".html\"\u001b[0m\u001b[1;33m\u001b[0m\u001b[1;33m\u001b[0m\u001b[0m\n\u001b[0;32m     70\u001b[0m \u001b[1;33m\u001b[0m\u001b[0m\n\u001b[1;32m---> 71\u001b[1;33m     \u001b[0mreq\u001b[0m \u001b[1;33m=\u001b[0m \u001b[0mrequests\u001b[0m\u001b[1;33m.\u001b[0m\u001b[0mget\u001b[0m\u001b[1;33m(\u001b[0m\u001b[0murl\u001b[0m\u001b[1;33m,\u001b[0m \u001b[0mheaders\u001b[0m\u001b[1;33m=\u001b[0m\u001b[0mheaders\u001b[0m\u001b[1;33m)\u001b[0m\u001b[1;33m\u001b[0m\u001b[1;33m\u001b[0m\u001b[0m\n\u001b[0m\u001b[0;32m     72\u001b[0m     \u001b[0msoup\u001b[0m \u001b[1;33m=\u001b[0m \u001b[0mBeautifulSoup\u001b[0m\u001b[1;33m(\u001b[0m\u001b[0mreq\u001b[0m\u001b[1;33m.\u001b[0m\u001b[0mcontent\u001b[0m\u001b[1;33m,\u001b[0m \u001b[1;34m\"html.parser\"\u001b[0m\u001b[1;33m)\u001b[0m\u001b[1;33m\u001b[0m\u001b[1;33m\u001b[0m\u001b[0m\n\u001b[0;32m     73\u001b[0m     \u001b[0mlyrics\u001b[0m \u001b[1;33m=\u001b[0m \u001b[0msoup\u001b[0m\u001b[1;33m.\u001b[0m\u001b[0mfind_all\u001b[0m\u001b[1;33m(\u001b[0m\u001b[1;34m\"div\"\u001b[0m\u001b[1;33m,\u001b[0m \u001b[0mattrs\u001b[0m\u001b[1;33m=\u001b[0m\u001b[1;33m{\u001b[0m\u001b[1;34m\"class\"\u001b[0m\u001b[1;33m:\u001b[0m \u001b[1;32mNone\u001b[0m\u001b[1;33m,\u001b[0m \u001b[1;34m\"id\"\u001b[0m\u001b[1;33m:\u001b[0m \u001b[1;32mNone\u001b[0m\u001b[1;33m}\u001b[0m\u001b[1;33m)\u001b[0m\u001b[1;33m\u001b[0m\u001b[1;33m\u001b[0m\u001b[0m\n",
      "\u001b[1;32m~\\miniconda3\\lib\\site-packages\\requests\\api.py\u001b[0m in \u001b[0;36mget\u001b[1;34m(url, params, **kwargs)\u001b[0m\n\u001b[0;32m     73\u001b[0m     \"\"\"\n\u001b[0;32m     74\u001b[0m \u001b[1;33m\u001b[0m\u001b[0m\n\u001b[1;32m---> 75\u001b[1;33m     \u001b[1;32mreturn\u001b[0m \u001b[0mrequest\u001b[0m\u001b[1;33m(\u001b[0m\u001b[1;34m'get'\u001b[0m\u001b[1;33m,\u001b[0m \u001b[0murl\u001b[0m\u001b[1;33m,\u001b[0m \u001b[0mparams\u001b[0m\u001b[1;33m=\u001b[0m\u001b[0mparams\u001b[0m\u001b[1;33m,\u001b[0m \u001b[1;33m**\u001b[0m\u001b[0mkwargs\u001b[0m\u001b[1;33m)\u001b[0m\u001b[1;33m\u001b[0m\u001b[1;33m\u001b[0m\u001b[0m\n\u001b[0m\u001b[0;32m     76\u001b[0m \u001b[1;33m\u001b[0m\u001b[0m\n\u001b[0;32m     77\u001b[0m \u001b[1;33m\u001b[0m\u001b[0m\n",
      "\u001b[1;32m~\\miniconda3\\lib\\site-packages\\requests\\api.py\u001b[0m in \u001b[0;36mrequest\u001b[1;34m(method, url, **kwargs)\u001b[0m\n\u001b[0;32m     59\u001b[0m     \u001b[1;31m# cases, and look like a memory leak in others.\u001b[0m\u001b[1;33m\u001b[0m\u001b[1;33m\u001b[0m\u001b[1;33m\u001b[0m\u001b[0m\n\u001b[0;32m     60\u001b[0m     \u001b[1;32mwith\u001b[0m \u001b[0msessions\u001b[0m\u001b[1;33m.\u001b[0m\u001b[0mSession\u001b[0m\u001b[1;33m(\u001b[0m\u001b[1;33m)\u001b[0m \u001b[1;32mas\u001b[0m \u001b[0msession\u001b[0m\u001b[1;33m:\u001b[0m\u001b[1;33m\u001b[0m\u001b[1;33m\u001b[0m\u001b[0m\n\u001b[1;32m---> 61\u001b[1;33m         \u001b[1;32mreturn\u001b[0m \u001b[0msession\u001b[0m\u001b[1;33m.\u001b[0m\u001b[0mrequest\u001b[0m\u001b[1;33m(\u001b[0m\u001b[0mmethod\u001b[0m\u001b[1;33m=\u001b[0m\u001b[0mmethod\u001b[0m\u001b[1;33m,\u001b[0m \u001b[0murl\u001b[0m\u001b[1;33m=\u001b[0m\u001b[0murl\u001b[0m\u001b[1;33m,\u001b[0m \u001b[1;33m**\u001b[0m\u001b[0mkwargs\u001b[0m\u001b[1;33m)\u001b[0m\u001b[1;33m\u001b[0m\u001b[1;33m\u001b[0m\u001b[0m\n\u001b[0m\u001b[0;32m     62\u001b[0m \u001b[1;33m\u001b[0m\u001b[0m\n\u001b[0;32m     63\u001b[0m \u001b[1;33m\u001b[0m\u001b[0m\n",
      "\u001b[1;32m~\\miniconda3\\lib\\site-packages\\requests\\sessions.py\u001b[0m in \u001b[0;36mrequest\u001b[1;34m(self, method, url, params, data, headers, cookies, files, auth, timeout, allow_redirects, proxies, hooks, stream, verify, cert, json)\u001b[0m\n\u001b[0;32m    540\u001b[0m         }\n\u001b[0;32m    541\u001b[0m         \u001b[0msend_kwargs\u001b[0m\u001b[1;33m.\u001b[0m\u001b[0mupdate\u001b[0m\u001b[1;33m(\u001b[0m\u001b[0msettings\u001b[0m\u001b[1;33m)\u001b[0m\u001b[1;33m\u001b[0m\u001b[1;33m\u001b[0m\u001b[0m\n\u001b[1;32m--> 542\u001b[1;33m         \u001b[0mresp\u001b[0m \u001b[1;33m=\u001b[0m \u001b[0mself\u001b[0m\u001b[1;33m.\u001b[0m\u001b[0msend\u001b[0m\u001b[1;33m(\u001b[0m\u001b[0mprep\u001b[0m\u001b[1;33m,\u001b[0m \u001b[1;33m**\u001b[0m\u001b[0msend_kwargs\u001b[0m\u001b[1;33m)\u001b[0m\u001b[1;33m\u001b[0m\u001b[1;33m\u001b[0m\u001b[0m\n\u001b[0m\u001b[0;32m    543\u001b[0m \u001b[1;33m\u001b[0m\u001b[0m\n\u001b[0;32m    544\u001b[0m         \u001b[1;32mreturn\u001b[0m \u001b[0mresp\u001b[0m\u001b[1;33m\u001b[0m\u001b[1;33m\u001b[0m\u001b[0m\n",
      "\u001b[1;32m~\\miniconda3\\lib\\site-packages\\requests\\sessions.py\u001b[0m in \u001b[0;36msend\u001b[1;34m(self, request, **kwargs)\u001b[0m\n\u001b[0;32m    653\u001b[0m \u001b[1;33m\u001b[0m\u001b[0m\n\u001b[0;32m    654\u001b[0m         \u001b[1;31m# Send the request\u001b[0m\u001b[1;33m\u001b[0m\u001b[1;33m\u001b[0m\u001b[1;33m\u001b[0m\u001b[0m\n\u001b[1;32m--> 655\u001b[1;33m         \u001b[0mr\u001b[0m \u001b[1;33m=\u001b[0m \u001b[0madapter\u001b[0m\u001b[1;33m.\u001b[0m\u001b[0msend\u001b[0m\u001b[1;33m(\u001b[0m\u001b[0mrequest\u001b[0m\u001b[1;33m,\u001b[0m \u001b[1;33m**\u001b[0m\u001b[0mkwargs\u001b[0m\u001b[1;33m)\u001b[0m\u001b[1;33m\u001b[0m\u001b[1;33m\u001b[0m\u001b[0m\n\u001b[0m\u001b[0;32m    656\u001b[0m \u001b[1;33m\u001b[0m\u001b[0m\n\u001b[0;32m    657\u001b[0m         \u001b[1;31m# Total elapsed time of the request (approximately)\u001b[0m\u001b[1;33m\u001b[0m\u001b[1;33m\u001b[0m\u001b[1;33m\u001b[0m\u001b[0m\n",
      "\u001b[1;32m~\\miniconda3\\lib\\site-packages\\requests\\adapters.py\u001b[0m in \u001b[0;36msend\u001b[1;34m(self, request, stream, timeout, verify, cert, proxies)\u001b[0m\n\u001b[0;32m    437\u001b[0m         \u001b[1;32mtry\u001b[0m\u001b[1;33m:\u001b[0m\u001b[1;33m\u001b[0m\u001b[1;33m\u001b[0m\u001b[0m\n\u001b[0;32m    438\u001b[0m             \u001b[1;32mif\u001b[0m \u001b[1;32mnot\u001b[0m \u001b[0mchunked\u001b[0m\u001b[1;33m:\u001b[0m\u001b[1;33m\u001b[0m\u001b[1;33m\u001b[0m\u001b[0m\n\u001b[1;32m--> 439\u001b[1;33m                 resp = conn.urlopen(\n\u001b[0m\u001b[0;32m    440\u001b[0m                     \u001b[0mmethod\u001b[0m\u001b[1;33m=\u001b[0m\u001b[0mrequest\u001b[0m\u001b[1;33m.\u001b[0m\u001b[0mmethod\u001b[0m\u001b[1;33m,\u001b[0m\u001b[1;33m\u001b[0m\u001b[1;33m\u001b[0m\u001b[0m\n\u001b[0;32m    441\u001b[0m                     \u001b[0murl\u001b[0m\u001b[1;33m=\u001b[0m\u001b[0murl\u001b[0m\u001b[1;33m,\u001b[0m\u001b[1;33m\u001b[0m\u001b[1;33m\u001b[0m\u001b[0m\n",
      "\u001b[1;32m~\\miniconda3\\lib\\site-packages\\urllib3\\connectionpool.py\u001b[0m in \u001b[0;36murlopen\u001b[1;34m(self, method, url, body, headers, retries, redirect, assert_same_host, timeout, pool_timeout, release_conn, chunked, body_pos, **response_kw)\u001b[0m\n\u001b[0;32m    697\u001b[0m \u001b[1;33m\u001b[0m\u001b[0m\n\u001b[0;32m    698\u001b[0m             \u001b[1;31m# Make the request on the httplib connection object.\u001b[0m\u001b[1;33m\u001b[0m\u001b[1;33m\u001b[0m\u001b[1;33m\u001b[0m\u001b[0m\n\u001b[1;32m--> 699\u001b[1;33m             httplib_response = self._make_request(\n\u001b[0m\u001b[0;32m    700\u001b[0m                 \u001b[0mconn\u001b[0m\u001b[1;33m,\u001b[0m\u001b[1;33m\u001b[0m\u001b[1;33m\u001b[0m\u001b[0m\n\u001b[0;32m    701\u001b[0m                 \u001b[0mmethod\u001b[0m\u001b[1;33m,\u001b[0m\u001b[1;33m\u001b[0m\u001b[1;33m\u001b[0m\u001b[0m\n",
      "\u001b[1;32m~\\miniconda3\\lib\\site-packages\\urllib3\\connectionpool.py\u001b[0m in \u001b[0;36m_make_request\u001b[1;34m(self, conn, method, url, timeout, chunked, **httplib_request_kw)\u001b[0m\n\u001b[0;32m    443\u001b[0m                     \u001b[1;31m# Python 3 (including for exceptions like SystemExit).\u001b[0m\u001b[1;33m\u001b[0m\u001b[1;33m\u001b[0m\u001b[1;33m\u001b[0m\u001b[0m\n\u001b[0;32m    444\u001b[0m                     \u001b[1;31m# Otherwise it looks like a bug in the code.\u001b[0m\u001b[1;33m\u001b[0m\u001b[1;33m\u001b[0m\u001b[1;33m\u001b[0m\u001b[0m\n\u001b[1;32m--> 445\u001b[1;33m                     \u001b[0msix\u001b[0m\u001b[1;33m.\u001b[0m\u001b[0mraise_from\u001b[0m\u001b[1;33m(\u001b[0m\u001b[0me\u001b[0m\u001b[1;33m,\u001b[0m \u001b[1;32mNone\u001b[0m\u001b[1;33m)\u001b[0m\u001b[1;33m\u001b[0m\u001b[1;33m\u001b[0m\u001b[0m\n\u001b[0m\u001b[0;32m    446\u001b[0m         \u001b[1;32mexcept\u001b[0m \u001b[1;33m(\u001b[0m\u001b[0mSocketTimeout\u001b[0m\u001b[1;33m,\u001b[0m \u001b[0mBaseSSLError\u001b[0m\u001b[1;33m,\u001b[0m \u001b[0mSocketError\u001b[0m\u001b[1;33m)\u001b[0m \u001b[1;32mas\u001b[0m \u001b[0me\u001b[0m\u001b[1;33m:\u001b[0m\u001b[1;33m\u001b[0m\u001b[1;33m\u001b[0m\u001b[0m\n\u001b[0;32m    447\u001b[0m             \u001b[0mself\u001b[0m\u001b[1;33m.\u001b[0m\u001b[0m_raise_timeout\u001b[0m\u001b[1;33m(\u001b[0m\u001b[0merr\u001b[0m\u001b[1;33m=\u001b[0m\u001b[0me\u001b[0m\u001b[1;33m,\u001b[0m \u001b[0murl\u001b[0m\u001b[1;33m=\u001b[0m\u001b[0murl\u001b[0m\u001b[1;33m,\u001b[0m \u001b[0mtimeout_value\u001b[0m\u001b[1;33m=\u001b[0m\u001b[0mread_timeout\u001b[0m\u001b[1;33m)\u001b[0m\u001b[1;33m\u001b[0m\u001b[1;33m\u001b[0m\u001b[0m\n",
      "\u001b[1;32m~\\miniconda3\\lib\\site-packages\\urllib3\\packages\\six.py\u001b[0m in \u001b[0;36mraise_from\u001b[1;34m(value, from_value)\u001b[0m\n",
      "\u001b[1;32m~\\miniconda3\\lib\\site-packages\\urllib3\\connectionpool.py\u001b[0m in \u001b[0;36m_make_request\u001b[1;34m(self, conn, method, url, timeout, chunked, **httplib_request_kw)\u001b[0m\n\u001b[0;32m    438\u001b[0m                 \u001b[1;31m# Python 3\u001b[0m\u001b[1;33m\u001b[0m\u001b[1;33m\u001b[0m\u001b[1;33m\u001b[0m\u001b[0m\n\u001b[0;32m    439\u001b[0m                 \u001b[1;32mtry\u001b[0m\u001b[1;33m:\u001b[0m\u001b[1;33m\u001b[0m\u001b[1;33m\u001b[0m\u001b[0m\n\u001b[1;32m--> 440\u001b[1;33m                     \u001b[0mhttplib_response\u001b[0m \u001b[1;33m=\u001b[0m \u001b[0mconn\u001b[0m\u001b[1;33m.\u001b[0m\u001b[0mgetresponse\u001b[0m\u001b[1;33m(\u001b[0m\u001b[1;33m)\u001b[0m\u001b[1;33m\u001b[0m\u001b[1;33m\u001b[0m\u001b[0m\n\u001b[0m\u001b[0;32m    441\u001b[0m                 \u001b[1;32mexcept\u001b[0m \u001b[0mBaseException\u001b[0m \u001b[1;32mas\u001b[0m \u001b[0me\u001b[0m\u001b[1;33m:\u001b[0m\u001b[1;33m\u001b[0m\u001b[1;33m\u001b[0m\u001b[0m\n\u001b[0;32m    442\u001b[0m                     \u001b[1;31m# Remove the TypeError from the exception chain in\u001b[0m\u001b[1;33m\u001b[0m\u001b[1;33m\u001b[0m\u001b[1;33m\u001b[0m\u001b[0m\n",
      "\u001b[1;32m~\\miniconda3\\lib\\http\\client.py\u001b[0m in \u001b[0;36mgetresponse\u001b[1;34m(self)\u001b[0m\n\u001b[0;32m   1330\u001b[0m         \u001b[1;32mtry\u001b[0m\u001b[1;33m:\u001b[0m\u001b[1;33m\u001b[0m\u001b[1;33m\u001b[0m\u001b[0m\n\u001b[0;32m   1331\u001b[0m             \u001b[1;32mtry\u001b[0m\u001b[1;33m:\u001b[0m\u001b[1;33m\u001b[0m\u001b[1;33m\u001b[0m\u001b[0m\n\u001b[1;32m-> 1332\u001b[1;33m                 \u001b[0mresponse\u001b[0m\u001b[1;33m.\u001b[0m\u001b[0mbegin\u001b[0m\u001b[1;33m(\u001b[0m\u001b[1;33m)\u001b[0m\u001b[1;33m\u001b[0m\u001b[1;33m\u001b[0m\u001b[0m\n\u001b[0m\u001b[0;32m   1333\u001b[0m             \u001b[1;32mexcept\u001b[0m \u001b[0mConnectionError\u001b[0m\u001b[1;33m:\u001b[0m\u001b[1;33m\u001b[0m\u001b[1;33m\u001b[0m\u001b[0m\n\u001b[0;32m   1334\u001b[0m                 \u001b[0mself\u001b[0m\u001b[1;33m.\u001b[0m\u001b[0mclose\u001b[0m\u001b[1;33m(\u001b[0m\u001b[1;33m)\u001b[0m\u001b[1;33m\u001b[0m\u001b[1;33m\u001b[0m\u001b[0m\n",
      "\u001b[1;32m~\\miniconda3\\lib\\http\\client.py\u001b[0m in \u001b[0;36mbegin\u001b[1;34m(self)\u001b[0m\n\u001b[0;32m    301\u001b[0m         \u001b[1;31m# read until we get a non-100 response\u001b[0m\u001b[1;33m\u001b[0m\u001b[1;33m\u001b[0m\u001b[1;33m\u001b[0m\u001b[0m\n\u001b[0;32m    302\u001b[0m         \u001b[1;32mwhile\u001b[0m \u001b[1;32mTrue\u001b[0m\u001b[1;33m:\u001b[0m\u001b[1;33m\u001b[0m\u001b[1;33m\u001b[0m\u001b[0m\n\u001b[1;32m--> 303\u001b[1;33m             \u001b[0mversion\u001b[0m\u001b[1;33m,\u001b[0m \u001b[0mstatus\u001b[0m\u001b[1;33m,\u001b[0m \u001b[0mreason\u001b[0m \u001b[1;33m=\u001b[0m \u001b[0mself\u001b[0m\u001b[1;33m.\u001b[0m\u001b[0m_read_status\u001b[0m\u001b[1;33m(\u001b[0m\u001b[1;33m)\u001b[0m\u001b[1;33m\u001b[0m\u001b[1;33m\u001b[0m\u001b[0m\n\u001b[0m\u001b[0;32m    304\u001b[0m             \u001b[1;32mif\u001b[0m \u001b[0mstatus\u001b[0m \u001b[1;33m!=\u001b[0m \u001b[0mCONTINUE\u001b[0m\u001b[1;33m:\u001b[0m\u001b[1;33m\u001b[0m\u001b[1;33m\u001b[0m\u001b[0m\n\u001b[0;32m    305\u001b[0m                 \u001b[1;32mbreak\u001b[0m\u001b[1;33m\u001b[0m\u001b[1;33m\u001b[0m\u001b[0m\n",
      "\u001b[1;32m~\\miniconda3\\lib\\http\\client.py\u001b[0m in \u001b[0;36m_read_status\u001b[1;34m(self)\u001b[0m\n\u001b[0;32m    262\u001b[0m \u001b[1;33m\u001b[0m\u001b[0m\n\u001b[0;32m    263\u001b[0m     \u001b[1;32mdef\u001b[0m \u001b[0m_read_status\u001b[0m\u001b[1;33m(\u001b[0m\u001b[0mself\u001b[0m\u001b[1;33m)\u001b[0m\u001b[1;33m:\u001b[0m\u001b[1;33m\u001b[0m\u001b[1;33m\u001b[0m\u001b[0m\n\u001b[1;32m--> 264\u001b[1;33m         \u001b[0mline\u001b[0m \u001b[1;33m=\u001b[0m \u001b[0mstr\u001b[0m\u001b[1;33m(\u001b[0m\u001b[0mself\u001b[0m\u001b[1;33m.\u001b[0m\u001b[0mfp\u001b[0m\u001b[1;33m.\u001b[0m\u001b[0mreadline\u001b[0m\u001b[1;33m(\u001b[0m\u001b[0m_MAXLINE\u001b[0m \u001b[1;33m+\u001b[0m \u001b[1;36m1\u001b[0m\u001b[1;33m)\u001b[0m\u001b[1;33m,\u001b[0m \u001b[1;34m\"iso-8859-1\"\u001b[0m\u001b[1;33m)\u001b[0m\u001b[1;33m\u001b[0m\u001b[1;33m\u001b[0m\u001b[0m\n\u001b[0m\u001b[0;32m    265\u001b[0m         \u001b[1;32mif\u001b[0m \u001b[0mlen\u001b[0m\u001b[1;33m(\u001b[0m\u001b[0mline\u001b[0m\u001b[1;33m)\u001b[0m \u001b[1;33m>\u001b[0m \u001b[0m_MAXLINE\u001b[0m\u001b[1;33m:\u001b[0m\u001b[1;33m\u001b[0m\u001b[1;33m\u001b[0m\u001b[0m\n\u001b[0;32m    266\u001b[0m             \u001b[1;32mraise\u001b[0m \u001b[0mLineTooLong\u001b[0m\u001b[1;33m(\u001b[0m\u001b[1;34m\"status line\"\u001b[0m\u001b[1;33m)\u001b[0m\u001b[1;33m\u001b[0m\u001b[1;33m\u001b[0m\u001b[0m\n",
      "\u001b[1;32m~\\miniconda3\\lib\\socket.py\u001b[0m in \u001b[0;36mreadinto\u001b[1;34m(self, b)\u001b[0m\n\u001b[0;32m    667\u001b[0m         \u001b[1;32mwhile\u001b[0m \u001b[1;32mTrue\u001b[0m\u001b[1;33m:\u001b[0m\u001b[1;33m\u001b[0m\u001b[1;33m\u001b[0m\u001b[0m\n\u001b[0;32m    668\u001b[0m             \u001b[1;32mtry\u001b[0m\u001b[1;33m:\u001b[0m\u001b[1;33m\u001b[0m\u001b[1;33m\u001b[0m\u001b[0m\n\u001b[1;32m--> 669\u001b[1;33m                 \u001b[1;32mreturn\u001b[0m \u001b[0mself\u001b[0m\u001b[1;33m.\u001b[0m\u001b[0m_sock\u001b[0m\u001b[1;33m.\u001b[0m\u001b[0mrecv_into\u001b[0m\u001b[1;33m(\u001b[0m\u001b[0mb\u001b[0m\u001b[1;33m)\u001b[0m\u001b[1;33m\u001b[0m\u001b[1;33m\u001b[0m\u001b[0m\n\u001b[0m\u001b[0;32m    670\u001b[0m             \u001b[1;32mexcept\u001b[0m \u001b[0mtimeout\u001b[0m\u001b[1;33m:\u001b[0m\u001b[1;33m\u001b[0m\u001b[1;33m\u001b[0m\u001b[0m\n\u001b[0;32m    671\u001b[0m                 \u001b[0mself\u001b[0m\u001b[1;33m.\u001b[0m\u001b[0m_timeout_occurred\u001b[0m \u001b[1;33m=\u001b[0m \u001b[1;32mTrue\u001b[0m\u001b[1;33m\u001b[0m\u001b[1;33m\u001b[0m\u001b[0m\n",
      "\u001b[1;32m~\\miniconda3\\lib\\ssl.py\u001b[0m in \u001b[0;36mrecv_into\u001b[1;34m(self, buffer, nbytes, flags)\u001b[0m\n\u001b[0;32m   1239\u001b[0m                   \u001b[1;34m\"non-zero flags not allowed in calls to recv_into() on %s\"\u001b[0m \u001b[1;33m%\u001b[0m\u001b[1;33m\u001b[0m\u001b[1;33m\u001b[0m\u001b[0m\n\u001b[0;32m   1240\u001b[0m                   self.__class__)\n\u001b[1;32m-> 1241\u001b[1;33m             \u001b[1;32mreturn\u001b[0m \u001b[0mself\u001b[0m\u001b[1;33m.\u001b[0m\u001b[0mread\u001b[0m\u001b[1;33m(\u001b[0m\u001b[0mnbytes\u001b[0m\u001b[1;33m,\u001b[0m \u001b[0mbuffer\u001b[0m\u001b[1;33m)\u001b[0m\u001b[1;33m\u001b[0m\u001b[1;33m\u001b[0m\u001b[0m\n\u001b[0m\u001b[0;32m   1242\u001b[0m         \u001b[1;32melse\u001b[0m\u001b[1;33m:\u001b[0m\u001b[1;33m\u001b[0m\u001b[1;33m\u001b[0m\u001b[0m\n\u001b[0;32m   1243\u001b[0m             \u001b[1;32mreturn\u001b[0m \u001b[0msuper\u001b[0m\u001b[1;33m(\u001b[0m\u001b[1;33m)\u001b[0m\u001b[1;33m.\u001b[0m\u001b[0mrecv_into\u001b[0m\u001b[1;33m(\u001b[0m\u001b[0mbuffer\u001b[0m\u001b[1;33m,\u001b[0m \u001b[0mnbytes\u001b[0m\u001b[1;33m,\u001b[0m \u001b[0mflags\u001b[0m\u001b[1;33m)\u001b[0m\u001b[1;33m\u001b[0m\u001b[1;33m\u001b[0m\u001b[0m\n",
      "\u001b[1;32m~\\miniconda3\\lib\\ssl.py\u001b[0m in \u001b[0;36mread\u001b[1;34m(self, len, buffer)\u001b[0m\n\u001b[0;32m   1097\u001b[0m         \u001b[1;32mtry\u001b[0m\u001b[1;33m:\u001b[0m\u001b[1;33m\u001b[0m\u001b[1;33m\u001b[0m\u001b[0m\n\u001b[0;32m   1098\u001b[0m             \u001b[1;32mif\u001b[0m \u001b[0mbuffer\u001b[0m \u001b[1;32mis\u001b[0m \u001b[1;32mnot\u001b[0m \u001b[1;32mNone\u001b[0m\u001b[1;33m:\u001b[0m\u001b[1;33m\u001b[0m\u001b[1;33m\u001b[0m\u001b[0m\n\u001b[1;32m-> 1099\u001b[1;33m                 \u001b[1;32mreturn\u001b[0m \u001b[0mself\u001b[0m\u001b[1;33m.\u001b[0m\u001b[0m_sslobj\u001b[0m\u001b[1;33m.\u001b[0m\u001b[0mread\u001b[0m\u001b[1;33m(\u001b[0m\u001b[0mlen\u001b[0m\u001b[1;33m,\u001b[0m \u001b[0mbuffer\u001b[0m\u001b[1;33m)\u001b[0m\u001b[1;33m\u001b[0m\u001b[1;33m\u001b[0m\u001b[0m\n\u001b[0m\u001b[0;32m   1100\u001b[0m             \u001b[1;32melse\u001b[0m\u001b[1;33m:\u001b[0m\u001b[1;33m\u001b[0m\u001b[1;33m\u001b[0m\u001b[0m\n\u001b[0;32m   1101\u001b[0m                 \u001b[1;32mreturn\u001b[0m \u001b[0mself\u001b[0m\u001b[1;33m.\u001b[0m\u001b[0m_sslobj\u001b[0m\u001b[1;33m.\u001b[0m\u001b[0mread\u001b[0m\u001b[1;33m(\u001b[0m\u001b[0mlen\u001b[0m\u001b[1;33m)\u001b[0m\u001b[1;33m\u001b[0m\u001b[1;33m\u001b[0m\u001b[0m\n",
      "\u001b[1;31mKeyboardInterrupt\u001b[0m: "
     ]
    }
   ],
   "source": [
    "from azlyrics.azlyrics import lyrics\n",
    "from nltk.corpus import stopwords\n",
    "from nltk.tokenize import word_tokenize\n",
    "import re\n",
    "import copy\n",
    "\n",
    "def get_clean_lyrics(text):\n",
    "    text_tokens = word_tokenize(text)\n",
    "    tokens_without_sw = [word.lower() for word in text_tokens if not word in stopwords.words(\"italian\")]\n",
    "    clean_tokens = [word for word in tokens_without_sw if re.findall(r\"[^-!$%^&*()_+|~=`{}\\[\\]:\\\";'<>?,.\\/]\", word)]\n",
    "    return \" \".join(sorted(set(clean_tokens), key=clean_tokens.index))\n",
    "\n",
    "\n",
    "artists_albums_tracks_lyrics = copy.deepcopy(artists_albums_tracks)\n",
    "\n",
    "for artist, artist_info in artists_albums_tracks.items():\n",
    "    for album, album_info in artist_info[\"albums\"].items():\n",
    "        for track, track_info in album_info[\"tracks\"].items():\n",
    "            if \"Live\" not in track_info[\"name\"]:\n",
    "                track_name = track_info[\"name\"].split(\"feat.\")[0].lower().replace(\"(\", \"\").replace(\")\", \"\").replace(\" \", \"\").replace(\"-\",\"\")\n",
    "                track_name = \"\".join(re.findall(r\"[a-z0-9]+\", track_name))\n",
    "                print(track_name)\n",
    "                lyr = lyrics(artist_info[\"name\"], track_name)\n",
    "                if isinstance(lyr, dict):\n",
    "                    print(lyr)\n",
    "                    continue\n",
    "\n",
    "                artists_albums_tracks_lyrics[artist][\"albums\"][album][\"tracks\"][track][\"lyrics\"] = get_clean_lyrics(lyr[0])\n",
    "                time.sleep(5)\n",
    "            "
   ]
  },
  {
   "cell_type": "code",
   "execution_count": 11,
   "metadata": {},
   "outputs": [],
   "source": [
    "with open('artists_albums_tracks_lyrics.json', 'w') as json_file:\n",
    "    json.dump(artists_albums_tracks_lyrics, json_file, indent=4)"
   ]
  },
  {
   "cell_type": "code",
   "execution_count": null,
   "metadata": {},
   "outputs": [],
   "source": [
    "with open('artists_albums_tracks_lyrics.json', 'r') as json_file:\n",
    "    artists_albums_tracks_lyrics = json.load(json_file)"
   ]
  },
  {
   "cell_type": "code",
   "execution_count": null,
   "metadata": {},
   "outputs": [],
   "source": [
    "artists_albums_tracks_lyrics"
   ]
  }
 ],
 "metadata": {
  "interpreter": {
   "hash": "2db524e06e9f5f4ffedc911c917cb75e12dbc923643829bf417064a77eb14d37"
  },
  "kernelspec": {
   "display_name": "Python 3.8.3 64-bit",
   "language": "python",
   "name": "python3"
  },
  "language_info": {
   "codemirror_mode": {
    "name": "ipython",
    "version": 3
   },
   "file_extension": ".py",
   "mimetype": "text/x-python",
   "name": "python",
   "nbconvert_exporter": "python",
   "pygments_lexer": "ipython3",
   "version": "3.8.3"
  },
  "orig_nbformat": 4
 },
 "nbformat": 4,
 "nbformat_minor": 2
}
