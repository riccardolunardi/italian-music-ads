{
 "cells": [
  {
   "cell_type": "code",
   "execution_count": 4,
   "metadata": {},
   "outputs": [],
   "source": [
    "import spotipy\n",
    "from spotipy.oauth2 import SpotifyOAuth\n",
    "import json\n",
    "import pandas as pd\n",
    "\n"
   ]
  },
  {
   "cell_type": "code",
   "execution_count": 5,
   "metadata": {},
   "outputs": [],
   "source": [
    "artisti = []\n",
    "limit = 50\n",
    "after = 0\n",
    "results = sp.current_user_saved_tracks(limit=limit, offset=after)\n",
    "\n",
    "while True:\n",
    "    results = sp.current_user_saved_tracks(limit=limit, offset=after)\n",
    "    print(\"Limite: \", limit, \", Offset: \", after, \", Numero di risultati: \", len(results['items']))\n",
    "\n",
    "    for item in results['items']:\n",
    "        track = item[\"track\"]\n",
    "        if track[\"type\"] == \"track\":\n",
    "            for artist in track[\"artists\"]:\n",
    "                if not list(filter(lambda x: x[\"uri\"] == artist[\"uri\"], artisti)):\n",
    "                    artisti.append({\"uri\":  artist[\"uri\"], \"name\": artist[\"name\"]})\n",
    "    \n",
    "    after += limit\n",
    "    if len(results['items']) < limit:   \n",
    "        break"
   ]
  },
  {
   "cell_type": "code",
   "execution_count": 2,
   "metadata": {},
   "outputs": [],
   "source": [
    "def divide_chunks(l, n):\n",
    "    for i in range(0, len(l), n): \n",
    "        yield l[i:i + n]\n",
    "\n",
    "\n",
    "def artist_filter(genre, artists):\n",
    "    results = []\n",
    "    artists_id = [artist[\"uri\"] for artist in artists]\n",
    "\n",
    "\n",
    "    for artists_id_chunk in divide_chunks(artists_id, 50):\n",
    "        artists_more_info = sp.artists(artists_id_chunk)\n",
    "\n",
    "        for artist in artists_more_info[\"artists\"]:\n",
    "            for music_genre in artist[\"genres\"]:\n",
    "                if genre in music_genre:\n",
    "                    result = {}\n",
    "                    result[\"uri\"], result[\"name\"], result[\"followers\"] = artist[\"uri\"], artist[\"name\"], artist[\"followers\"][\"total\"]\n",
    "                    results.append(result)\n",
    "                    break\n",
    "\n",
    "    return results"
   ]
  },
  {
   "cell_type": "code",
   "execution_count": null,
   "metadata": {},
   "outputs": [],
   "source": [
    "# Filtro per rapper italiani\n",
    "artisti = artist_filter(\"italian\", artisti)\n",
    "\n",
    "\n",
    "with open('artisti_liberia.json', 'w') as outfile:\n",
    "    json.dump(artisti, outfile, indent=4)"
   ]
  },
  {
   "cell_type": "code",
   "execution_count": null,
   "metadata": {},
   "outputs": [],
   "source": [
    "import json\n",
    "\n",
    "with open('artisti_liberia.json') as json_file:\n",
    "    artisti = json.load(json_file)"
   ]
  },
  {
   "cell_type": "code",
   "execution_count": null,
   "metadata": {},
   "outputs": [],
   "source": [
    "import time\n",
    "\n",
    "def flatten(t):\n",
    "    return [item for sublist in t for item in sublist]\n",
    "\n",
    "def get_artists_from_artists(artist_uri, missing_steps):\n",
    "    print(\"Artista corrente:\", artist_uri)\n",
    "    if missing_steps > 0:\n",
    "        try:\n",
    "            artisti = artist_filter(\"italian\", sp.artist_related_artists(artist_uri)[\"artists\"])\n",
    "        except Exception as e:\n",
    "            print(e)\n",
    "            time.sleep(5)\n",
    "            artisti = artist_filter(\"italian\", sp.artist_related_artists(artist_uri)[\"artists\"])\n",
    "\n",
    "        partial_result = flatten([get_artists_from_artists(artista[\"uri\"], missing_steps - 1) for artista in artisti])\n",
    "    \n",
    "        return artisti + partial_result\n",
    "    else:\n",
    "        try:\n",
    "            return artist_filter(\"italian\", sp.artist_related_artists(artist_uri)[\"artists\"])\n",
    "        except Exception as e:\n",
    "            print(e)\n",
    "            time.sleep(5)\n",
    "            return artist_filter(\"italian\", sp.artist_related_artists(artist_uri)[\"artists\"])\n",
    "\n",
    "recursive_artist = get_artists_from_artists(artisti[0][\"uri\"], 3)\n",
    "recursive_artist_no_dupl = []\n",
    "\n",
    "for x in recursive_artist:\n",
    "    if x not in recursive_artist_no_dupl:\n",
    "        recursive_artist_no_dupl.append(x)\n",
    "\n",
    "with open('artisti_ricorsivi.json', 'w') as json_file:\n",
    "    json.dump(recursive_artist_no_dupl, json_file, indent=4)"
   ]
  },
  {
   "cell_type": "code",
   "execution_count": 69,
   "metadata": {},
   "outputs": [
    {
     "data": {
      "text/plain": [
       "183"
      ]
     },
     "execution_count": 69,
     "metadata": {},
     "output_type": "execute_result"
    }
   ],
   "source": [
    "len(recursive_artist_no_dupl)"
   ]
  }
 ],
 "metadata": {
  "interpreter": {
   "hash": "2db524e06e9f5f4ffedc911c917cb75e12dbc923643829bf417064a77eb14d37"
  },
  "kernelspec": {
   "display_name": "Python 3.8.3 64-bit",
   "language": "python",
   "name": "python3"
  },
  "language_info": {
   "codemirror_mode": {
    "name": "ipython",
    "version": 3
   },
   "file_extension": ".py",
   "mimetype": "text/x-python",
   "name": "python",
   "nbconvert_exporter": "python",
   "pygments_lexer": "ipython3",
   "version": "3.8.3"
  },
  "orig_nbformat": 4
 },
 "nbformat": 4,
 "nbformat_minor": 2
}
